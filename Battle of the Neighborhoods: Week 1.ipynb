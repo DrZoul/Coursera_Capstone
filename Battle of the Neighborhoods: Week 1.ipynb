{
    "cells": [
        {
            "cell_type": "markdown",
            "metadata": {
                "collapsed": true
            },
            "source": "# Capstone Project - The Battle of the Neighborhoods (Week 1)\n## Neighborhood Recommender System by:\n### Abubaker Abdelhafiz"
        },
        {
            "cell_type": "markdown",
            "metadata": {},
            "source": "## Business Problem Chosen:\n### Neighborhood Recommender\nImagine a young couple expecting a child in a few months. They've both early on in their careers and have, after many years of making good financial decisions and working hard, they now can finally afford to buy a house.\n\nFirst of all, congratulations to our fictional couple!\n\nAnd now with that out of the way, the real work begins. Not only do our protagonists have to find something they can afford, they also have to decide on which neighborhood to live in. Not an easy task at all..\n\nOn top of that, there are many, many factors to consider here. What is \"livable\" for one family is considered too spartan for another. Some people place a high value on amenities and community, whereas others are focused on quality-of-life factors such as having a good variety of restaurants nearby. Commutes are also a consideration for many people here so as we can see, this is a multi-dimensional and very complicated problem. \n\nThe goal in this project is to develop a system that does the following:\n\n1- Take some things a client (in this case, our young and strapping couple) wants in a neighborhood, sorted by importance from 'Non-negotiable' to 'nice to haves'.\n\n2- Take a \"sample\" ideal neighborhood they would like to live in.\n\n3- Use data science and machine learning techniques to recommend to them some candidate neighborhoods, sorted by how well they match their desired requirements and how closely they 'resemble' the sample neighborhood they provided.\n\nWe could think of this as a virtual real-estate agent of sorts."
        },
        {
            "cell_type": "markdown",
            "metadata": {},
            "source": "## Data:\n\nIn this project, the following data inputs are required :\n\n\n1- **Client's budget**: After all, there's no point in doing all of this work then realizing that they cannot afford a house in the recommdneded neighborhoods.\n\n2- **List of requirements sorted by 'priority'**: The application asks the client to input an item they care about or would like to have. This will be used to 'score' a neighborhood depending on the priority the client has placed on it. To limit complexity at this stage, the client will be provided a list of things to choose from, and will be able to input a 'score' between 0 and 10 to indicate how much value they place on each item.\n\nOnce all this data is collected, our application will fetch additional information about the city's neighborhoods from the following sources:\n\n1- **Foursquare API**: This will be used to find venues/amenities for the neighborhoods around the city.\n\n2- **Folium**: Maps for the city and neighborhoods will be used.\n\n3- **Real Estate Databases** (Optional): This will be used to find the average house price for the neighborhoods to exclude ones that fall outside the client's budget. If it is not possible to procure a compatible, readily available database, I will find real estate price estimates for our city and enter them directly. \n\n\n"
        },
        {
            "cell_type": "markdown",
            "metadata": {},
            "source": ""
        },
        {
            "cell_type": "code",
            "execution_count": null,
            "metadata": {},
            "outputs": [],
            "source": ""
        },
        {
            "cell_type": "code",
            "execution_count": null,
            "metadata": {},
            "outputs": [],
            "source": ""
        },
        {
            "cell_type": "code",
            "execution_count": null,
            "metadata": {},
            "outputs": [],
            "source": ""
        },
        {
            "cell_type": "code",
            "execution_count": null,
            "metadata": {},
            "outputs": [],
            "source": ""
        },
        {
            "cell_type": "code",
            "execution_count": null,
            "metadata": {},
            "outputs": [],
            "source": ""
        },
        {
            "cell_type": "code",
            "execution_count": null,
            "metadata": {},
            "outputs": [],
            "source": ""
        },
        {
            "cell_type": "code",
            "execution_count": null,
            "metadata": {},
            "outputs": [],
            "source": ""
        },
        {
            "cell_type": "code",
            "execution_count": null,
            "metadata": {},
            "outputs": [],
            "source": ""
        },
        {
            "cell_type": "code",
            "execution_count": null,
            "metadata": {},
            "outputs": [],
            "source": ""
        }
    ],
    "metadata": {
        "kernelspec": {
            "display_name": "Python 3.6",
            "language": "python",
            "name": "python3"
        },
        "language_info": {
            "codemirror_mode": {
                "name": "ipython",
                "version": 3
            },
            "file_extension": ".py",
            "mimetype": "text/x-python",
            "name": "python",
            "nbconvert_exporter": "python",
            "pygments_lexer": "ipython3",
            "version": "3.6.9"
        }
    },
    "nbformat": 4,
    "nbformat_minor": 1
}